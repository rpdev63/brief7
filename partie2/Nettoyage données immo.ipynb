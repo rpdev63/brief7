{
 "cells": [
  {
   "cell_type": "markdown",
   "id": "e9271de3",
   "metadata": {},
   "source": [
    "<div style = \"padding : 20px; background-color : red; color : white\">\n",
    "<h1 style = \"text-align:center\"> Nettoyage de données </h1>\n",
    "</div>"
   ]
  },
  {
   "cell_type": "code",
   "execution_count": 1,
   "id": "5e4d28b2",
   "metadata": {},
   "outputs": [],
   "source": [
    "import pandas as pd\n",
    "df_produits = pd.read_csv(\"data/produits.csv\")\n",
    "df_clients = pd.read_csv(\"data/clients.csv\")\n",
    "df_ventes = pd.read_csv(\"data/ventes.csv\")"
   ]
  },
  {
   "cell_type": "code",
   "execution_count": 2,
   "id": "caca861b",
   "metadata": {},
   "outputs": [
    {
     "name": "stdout",
     "output_type": "stream",
     "text": [
      "<class 'pandas.core.frame.DataFrame'>\n",
      "RangeIndex: 3287 entries, 0 to 3286\n",
      "Data columns (total 3 columns):\n",
      " #   Column   Non-Null Count  Dtype  \n",
      "---  ------   --------------  -----  \n",
      " 0   id_prod  3287 non-null   object \n",
      " 1   price    3287 non-null   float64\n",
      " 2   categ    3287 non-null   int64  \n",
      "dtypes: float64(1), int64(1), object(1)\n",
      "memory usage: 77.2+ KB\n"
     ]
    }
   ],
   "source": [
    "df_produits.info()"
   ]
  },
  {
   "cell_type": "code",
   "execution_count": 3,
   "id": "2905ed0e",
   "metadata": {},
   "outputs": [
    {
     "name": "stdout",
     "output_type": "stream",
     "text": [
      "<class 'pandas.core.frame.DataFrame'>\n",
      "RangeIndex: 8623 entries, 0 to 8622\n",
      "Data columns (total 3 columns):\n",
      " #   Column     Non-Null Count  Dtype \n",
      "---  ------     --------------  ----- \n",
      " 0   client_id  8623 non-null   object\n",
      " 1   sex        8623 non-null   object\n",
      " 2   birth      8623 non-null   int64 \n",
      "dtypes: int64(1), object(2)\n",
      "memory usage: 202.2+ KB\n"
     ]
    }
   ],
   "source": [
    "df_clients.info()"
   ]
  },
  {
   "cell_type": "code",
   "execution_count": 4,
   "id": "c4ced677",
   "metadata": {},
   "outputs": [
    {
     "name": "stdout",
     "output_type": "stream",
     "text": [
      "<class 'pandas.core.frame.DataFrame'>\n",
      "RangeIndex: 337016 entries, 0 to 337015\n",
      "Data columns (total 4 columns):\n",
      " #   Column      Non-Null Count   Dtype \n",
      "---  ------      --------------   ----- \n",
      " 0   id_prod     337016 non-null  object\n",
      " 1   date        337016 non-null  object\n",
      " 2   session_id  337016 non-null  object\n",
      " 3   client_id   337016 non-null  object\n",
      "dtypes: object(4)\n",
      "memory usage: 10.3+ MB\n"
     ]
    }
   ],
   "source": [
    "df_ventes.info()"
   ]
  },
  {
   "cell_type": "markdown",
   "id": "71e48493",
   "metadata": {},
   "source": [
    "## Création d'un dataframe regroupant toutes les donnés"
   ]
  },
  {
   "cell_type": "code",
   "execution_count": 5,
   "id": "9240428d",
   "metadata": {},
   "outputs": [
    {
     "name": "stdout",
     "output_type": "stream",
     "text": [
      "<class 'pandas.core.frame.DataFrame'>\n",
      "Int64Index: 336913 entries, 0 to 336912\n",
      "Data columns (total 8 columns):\n",
      " #   Column      Non-Null Count   Dtype  \n",
      "---  ------      --------------   -----  \n",
      " 0   id_prod     336913 non-null  object \n",
      " 1   price       336913 non-null  float64\n",
      " 2   categ       336913 non-null  int64  \n",
      " 3   date        336913 non-null  object \n",
      " 4   session_id  336913 non-null  object \n",
      " 5   client_id   336913 non-null  object \n",
      " 6   sex         336913 non-null  object \n",
      " 7   birth       336913 non-null  int64  \n",
      "dtypes: float64(1), int64(2), object(5)\n",
      "memory usage: 23.1+ MB\n"
     ]
    }
   ],
   "source": [
    "df = pd.merge(df_produits, df_ventes, on='id_prod', how='inner')\n",
    "df = pd.merge(df, df_clients, on='client_id', how='inner')\n",
    "df.info()"
   ]
  },
  {
   "cell_type": "markdown",
   "id": "0781e8d5",
   "metadata": {},
   "source": [
    "## Élimination des doublons"
   ]
  },
  {
   "cell_type": "code",
   "execution_count": 6,
   "id": "39c2a836",
   "metadata": {},
   "outputs": [
    {
     "name": "stdout",
     "output_type": "stream",
     "text": [
      "Il y avait 126 doublons\n"
     ]
    }
   ],
   "source": [
    "initial_length = len(df)\n",
    "df.drop_duplicates( keep='first', inplace = True )\n",
    "print(\"Il y avait {} doublons\".format(initial_length - len(df)))"
   ]
  },
  {
   "cell_type": "markdown",
   "id": "eb127436",
   "metadata": {},
   "source": [
    "## Détection des valeurs manquantes"
   ]
  },
  {
   "cell_type": "code",
   "execution_count": 7,
   "id": "e087fea0",
   "metadata": {},
   "outputs": [
    {
     "data": {
      "text/plain": [
       "id_prod       0\n",
       "price         0\n",
       "categ         0\n",
       "date          0\n",
       "session_id    0\n",
       "client_id     0\n",
       "sex           0\n",
       "birth         0\n",
       "dtype: int64"
      ]
     },
     "execution_count": 7,
     "metadata": {},
     "output_type": "execute_result"
    }
   ],
   "source": [
    "df.isnull().sum()"
   ]
  },
  {
   "cell_type": "markdown",
   "id": "225d8217",
   "metadata": {},
   "source": [
    "Il n'y a aucune valeurs nulle."
   ]
  },
  {
   "cell_type": "markdown",
   "id": "bb4e78cc",
   "metadata": {},
   "source": [
    "## Recherche de valeurs aberrantes\n",
    "**Vérification la crédibilité des données entrées dans les colonnes suivantes : price, categ, sex, birth**"
   ]
  },
  {
   "cell_type": "code",
   "execution_count": 8,
   "id": "c99072db",
   "metadata": {},
   "outputs": [
    {
     "data": {
      "text/plain": [
       "count    336787.000000\n",
       "mean         17.211186\n",
       "std          17.855525\n",
       "min          -1.000000\n",
       "25%           8.580000\n",
       "50%          13.900000\n",
       "75%          18.990000\n",
       "max         300.000000\n",
       "Name: price, dtype: float64"
      ]
     },
     "execution_count": 8,
     "metadata": {},
     "output_type": "execute_result"
    }
   ],
   "source": [
    "df.price.describe()"
   ]
  },
  {
   "cell_type": "markdown",
   "id": "7615efb4",
   "metadata": {},
   "source": [
    "<p style='color:red; font-weight:bold'> ⚠ Certains prix de ventes sont négatifs ! </p>"
   ]
  },
  {
   "cell_type": "code",
   "execution_count": 9,
   "id": "53edc22b",
   "metadata": {},
   "outputs": [
    {
     "data": {
      "text/plain": [
       "count    336787.000000\n",
       "mean          0.430061\n",
       "std           0.591051\n",
       "min           0.000000\n",
       "25%           0.000000\n",
       "50%           0.000000\n",
       "75%           1.000000\n",
       "max           2.000000\n",
       "Name: categ, dtype: float64"
      ]
     },
     "execution_count": 9,
     "metadata": {},
     "output_type": "execute_result"
    }
   ],
   "source": [
    "df.categ.describe()"
   ]
  },
  {
   "cell_type": "code",
   "execution_count": 10,
   "id": "8ad6c4ed",
   "metadata": {},
   "outputs": [
    {
     "data": {
      "text/plain": [
       "categ\n",
       "0    209500\n",
       "1    109735\n",
       "2     17552\n",
       "dtype: int64"
      ]
     },
     "execution_count": 10,
     "metadata": {},
     "output_type": "execute_result"
    }
   ],
   "source": [
    "df.groupby(by=\"categ\").size()"
   ]
  },
  {
   "cell_type": "markdown",
   "id": "d0d72d17",
   "metadata": {},
   "source": [
    "Pas de données incohérentes"
   ]
  },
  {
   "cell_type": "code",
   "execution_count": 11,
   "id": "8dc91828",
   "metadata": {},
   "outputs": [
    {
     "data": {
      "text/plain": [
       "count     336787\n",
       "unique         2\n",
       "top            m\n",
       "freq      169235\n",
       "Name: sex, dtype: object"
      ]
     },
     "execution_count": 11,
     "metadata": {},
     "output_type": "execute_result"
    }
   ],
   "source": [
    "df.sex.describe()"
   ]
  },
  {
   "cell_type": "code",
   "execution_count": 12,
   "id": "3aba3d34",
   "metadata": {},
   "outputs": [
    {
     "data": {
      "text/plain": [
       "sex\n",
       "f    167552\n",
       "m    169235\n",
       "dtype: int64"
      ]
     },
     "execution_count": 12,
     "metadata": {},
     "output_type": "execute_result"
    }
   ],
   "source": [
    "df.groupby('sex').size()"
   ]
  },
  {
   "cell_type": "markdown",
   "id": "d75ca1b8",
   "metadata": {},
   "source": [
    "Pas de données incohérentes"
   ]
  },
  {
   "cell_type": "code",
   "execution_count": 13,
   "id": "054cd0b8",
   "metadata": {},
   "outputs": [
    {
     "data": {
      "text/plain": [
       "count    336787.00000\n",
       "mean       1977.82866\n",
       "std          13.52731\n",
       "min        1929.00000\n",
       "25%        1971.00000\n",
       "50%        1980.00000\n",
       "75%        1987.00000\n",
       "max        2004.00000\n",
       "Name: birth, dtype: float64"
      ]
     },
     "execution_count": 13,
     "metadata": {},
     "output_type": "execute_result"
    }
   ],
   "source": [
    "df.birth.describe()"
   ]
  },
  {
   "cell_type": "code",
   "execution_count": 14,
   "id": "febd64f9",
   "metadata": {},
   "outputs": [
    {
     "data": {
      "text/plain": [
       "birth\n",
       "1929      86\n",
       "1930     115\n",
       "1931      84\n",
       "1932     159\n",
       "1933     163\n",
       "        ... \n",
       "2000    2174\n",
       "2001    2106\n",
       "2002    2223\n",
       "2003    2182\n",
       "2004    7348\n",
       "Length: 76, dtype: int64"
      ]
     },
     "execution_count": 14,
     "metadata": {},
     "output_type": "execute_result"
    }
   ],
   "source": [
    "df.groupby('birth').size()"
   ]
  },
  {
   "cell_type": "code",
   "execution_count": 15,
   "id": "aa2fb661",
   "metadata": {},
   "outputs": [
    {
     "name": "stdout",
     "output_type": "stream",
     "text": [
      "<class 'pandas.core.frame.DataFrame'>\n",
      "Int64Index: 336787 entries, 0 to 336912\n",
      "Data columns (total 11 columns):\n",
      " #   Column      Non-Null Count   Dtype  \n",
      "---  ------      --------------   -----  \n",
      " 0   id_prod     336787 non-null  object \n",
      " 1   price       336787 non-null  float64\n",
      " 2   categ       336787 non-null  int64  \n",
      " 3   date        336787 non-null  object \n",
      " 4   session_id  336787 non-null  object \n",
      " 5   client_id   336787 non-null  object \n",
      " 6   sex         336787 non-null  object \n",
      " 7   birth       336787 non-null  int64  \n",
      " 8   year        336787 non-null  object \n",
      " 9   month       336787 non-null  object \n",
      " 10  day         336787 non-null  object \n",
      "dtypes: float64(1), int64(2), object(8)\n",
      "memory usage: 30.8+ MB\n"
     ]
    }
   ],
   "source": [
    "df['year'] = df.apply(lambda row:( row['date'][:4] ),axis = 1 )\n",
    "df['month'] = df.apply(lambda row:( row['date'][5:7]), axis = 1)\n",
    "df['day'] = df.apply(lambda row:(row['date'][8:10]), axis = 1)\n",
    "df.info()"
   ]
  },
  {
   "cell_type": "code",
   "execution_count": 16,
   "id": "c56335d6",
   "metadata": {},
   "outputs": [
    {
     "data": {
      "text/plain": [
       "year\n",
       "2021    277846\n",
       "2022     58867\n",
       "test        74\n",
       "dtype: int64"
      ]
     },
     "execution_count": 16,
     "metadata": {},
     "output_type": "execute_result"
    }
   ],
   "source": [
    "df.groupby('year').size()"
   ]
  },
  {
   "cell_type": "code",
   "execution_count": 17,
   "id": "b8a4c8e0",
   "metadata": {},
   "outputs": [
    {
     "data": {
      "text/plain": [
       "month\n",
       "01    29311\n",
       "02    29556\n",
       "03    28559\n",
       "04    28401\n",
       "05    28237\n",
       "06    26812\n",
       "07    24712\n",
       "08    25610\n",
       "09    33254\n",
       "10    21577\n",
       "11    28267\n",
       "12    32417\n",
       "20       74\n",
       "dtype: int64"
      ]
     },
     "execution_count": 17,
     "metadata": {},
     "output_type": "execute_result"
    }
   ],
   "source": [
    "df.groupby('month').size()"
   ]
  },
  {
   "cell_type": "code",
   "execution_count": 18,
   "id": "b1d2cffc",
   "metadata": {},
   "outputs": [
    {
     "data": {
      "text/plain": [
       "day\n",
       "01    11293\n",
       "02    10957\n",
       "03    10936\n",
       "04    10663\n",
       "05    10839\n",
       "06    11016\n",
       "07    10938\n",
       "08    11095\n",
       "09    10945\n",
       "1-       74\n",
       "10    10965\n",
       "11    11095\n",
       "12    11039\n",
       "13    10976\n",
       "14    11099\n",
       "15    11012\n",
       "16    11253\n",
       "17    11125\n",
       "18    10965\n",
       "19    10840\n",
       "20    10956\n",
       "21    11007\n",
       "22    11019\n",
       "23    11135\n",
       "24    11111\n",
       "25    11028\n",
       "26    11165\n",
       "27    11161\n",
       "28    11528\n",
       "29    10579\n",
       "30    10571\n",
       "31     6402\n",
       "dtype: int64"
      ]
     },
     "execution_count": 18,
     "metadata": {},
     "output_type": "execute_result"
    }
   ],
   "source": [
    "df.groupby('day').size()"
   ]
  },
  {
   "cell_type": "markdown",
   "id": "10adb45d",
   "metadata": {},
   "source": [
    "<p style='color:red; font-weight:bold'> ⚠ Certaines dates ne sont pas cohérentes ! 74 valeurs sont aberrantes </p>"
   ]
  },
  {
   "cell_type": "markdown",
   "id": "fc6f0867",
   "metadata": {},
   "source": [
    "## Suppression des valeurs aberrantes"
   ]
  },
  {
   "cell_type": "code",
   "execution_count": 19,
   "id": "5b587e15",
   "metadata": {},
   "outputs": [
    {
     "name": "stdout",
     "output_type": "stream",
     "text": [
      "74 valeurs ont été effacés \n"
     ]
    }
   ],
   "source": [
    "# Suppression des prix négatifs\n",
    "initial_length = len(df)\n",
    "df.query(\"price >= 0 \", inplace=True)\n",
    "print(\"{} valeurs ont été effacés \".format(initial_length - len(df)))\n",
    "\n"
   ]
  },
  {
   "cell_type": "code",
   "execution_count": 20,
   "id": "80d2d617",
   "metadata": {},
   "outputs": [
    {
     "data": {
      "text/plain": [
       "year\n",
       "2021    277846\n",
       "2022     58867\n",
       "dtype: int64"
      ]
     },
     "execution_count": 20,
     "metadata": {},
     "output_type": "execute_result"
    }
   ],
   "source": [
    "df.groupby('year').size()"
   ]
  },
  {
   "cell_type": "markdown",
   "id": "c83b47ad",
   "metadata": {},
   "source": [
    "Les entrées correspondant aux prix négatifs étaient aussi celles qui avaient des dates incohérentes. \n",
    "\n",
    "Toutes les valeurs incohérentes semblent avoir été supprimé. "
   ]
  },
  {
   "cell_type": "markdown",
   "id": "39736386",
   "metadata": {},
   "source": [
    "## Calcul de l'âge du client / ajout de colonnes"
   ]
  },
  {
   "cell_type": "code",
   "execution_count": 21,
   "id": "8506a289",
   "metadata": {},
   "outputs": [
    {
     "name": "stdout",
     "output_type": "stream",
     "text": [
      "<class 'pandas.core.frame.DataFrame'>\n",
      "Int64Index: 336713 entries, 0 to 336912\n",
      "Data columns (total 11 columns):\n",
      " #   Column      Non-Null Count   Dtype  \n",
      "---  ------      --------------   -----  \n",
      " 0   id_prod     336713 non-null  object \n",
      " 1   price       336713 non-null  float64\n",
      " 2   categ       336713 non-null  int64  \n",
      " 3   date        336713 non-null  object \n",
      " 4   session_id  336713 non-null  object \n",
      " 5   client_id   336713 non-null  object \n",
      " 6   sex         336713 non-null  object \n",
      " 7   birth       336713 non-null  int64  \n",
      " 8   year        336713 non-null  int64  \n",
      " 9   month       336713 non-null  int64  \n",
      " 10  day         336713 non-null  int64  \n",
      "dtypes: float64(1), int64(5), object(5)\n",
      "memory usage: 30.8+ MB\n"
     ]
    }
   ],
   "source": [
    "## Changement de type string -> int\n",
    "df['year'] = df['year'].map(lambda x : int(x))\n",
    "df['month'] = df['month'].map(lambda x : int(x))\n",
    "df['day'] = df['day'].map(lambda x : int(x))\n",
    "df.info()"
   ]
  },
  {
   "cell_type": "code",
   "execution_count": 22,
   "id": "91fff47e",
   "metadata": {},
   "outputs": [
    {
     "data": {
      "text/html": [
       "<div>\n",
       "<style scoped>\n",
       "    .dataframe tbody tr th:only-of-type {\n",
       "        vertical-align: middle;\n",
       "    }\n",
       "\n",
       "    .dataframe tbody tr th {\n",
       "        vertical-align: top;\n",
       "    }\n",
       "\n",
       "    .dataframe thead th {\n",
       "        text-align: right;\n",
       "    }\n",
       "</style>\n",
       "<table border=\"1\" class=\"dataframe\">\n",
       "  <thead>\n",
       "    <tr style=\"text-align: right;\">\n",
       "      <th></th>\n",
       "      <th>id_prod</th>\n",
       "      <th>price</th>\n",
       "      <th>categ</th>\n",
       "      <th>date</th>\n",
       "      <th>session_id</th>\n",
       "      <th>client_id</th>\n",
       "      <th>sex</th>\n",
       "      <th>birth</th>\n",
       "      <th>year</th>\n",
       "      <th>month</th>\n",
       "      <th>day</th>\n",
       "      <th>age</th>\n",
       "    </tr>\n",
       "  </thead>\n",
       "  <tbody>\n",
       "    <tr>\n",
       "      <th>0</th>\n",
       "      <td>0_1421</td>\n",
       "      <td>19.99</td>\n",
       "      <td>0</td>\n",
       "      <td>2021-05-12 23:26:29.885083</td>\n",
       "      <td>s_33709</td>\n",
       "      <td>c_7954</td>\n",
       "      <td>m</td>\n",
       "      <td>1973</td>\n",
       "      <td>2021</td>\n",
       "      <td>5</td>\n",
       "      <td>12</td>\n",
       "      <td>48</td>\n",
       "    </tr>\n",
       "    <tr>\n",
       "      <th>1</th>\n",
       "      <td>0_1142</td>\n",
       "      <td>3.42</td>\n",
       "      <td>0</td>\n",
       "      <td>2021-03-24 00:54:59.507581</td>\n",
       "      <td>s_10590</td>\n",
       "      <td>c_7954</td>\n",
       "      <td>m</td>\n",
       "      <td>1973</td>\n",
       "      <td>2021</td>\n",
       "      <td>3</td>\n",
       "      <td>24</td>\n",
       "      <td>48</td>\n",
       "    </tr>\n",
       "    <tr>\n",
       "      <th>2</th>\n",
       "      <td>0_1446</td>\n",
       "      <td>8.09</td>\n",
       "      <td>0</td>\n",
       "      <td>2021-11-26 18:04:33.019608</td>\n",
       "      <td>s_125461</td>\n",
       "      <td>c_7954</td>\n",
       "      <td>m</td>\n",
       "      <td>1973</td>\n",
       "      <td>2021</td>\n",
       "      <td>11</td>\n",
       "      <td>26</td>\n",
       "      <td>48</td>\n",
       "    </tr>\n",
       "    <tr>\n",
       "      <th>3</th>\n",
       "      <td>0_2291</td>\n",
       "      <td>12.99</td>\n",
       "      <td>0</td>\n",
       "      <td>2021-05-29 18:25:02.094891</td>\n",
       "      <td>s_41299</td>\n",
       "      <td>c_7954</td>\n",
       "      <td>m</td>\n",
       "      <td>1973</td>\n",
       "      <td>2021</td>\n",
       "      <td>5</td>\n",
       "      <td>29</td>\n",
       "      <td>48</td>\n",
       "    </tr>\n",
       "    <tr>\n",
       "      <th>4</th>\n",
       "      <td>1_385</td>\n",
       "      <td>25.99</td>\n",
       "      <td>1</td>\n",
       "      <td>2021-06-01 20:41:40.157683</td>\n",
       "      <td>s_42731</td>\n",
       "      <td>c_7954</td>\n",
       "      <td>m</td>\n",
       "      <td>1973</td>\n",
       "      <td>2021</td>\n",
       "      <td>6</td>\n",
       "      <td>1</td>\n",
       "      <td>48</td>\n",
       "    </tr>\n",
       "  </tbody>\n",
       "</table>\n",
       "</div>"
      ],
      "text/plain": [
       "  id_prod  price  categ                        date session_id client_id sex  \\\n",
       "0  0_1421  19.99      0  2021-05-12 23:26:29.885083    s_33709    c_7954   m   \n",
       "1  0_1142   3.42      0  2021-03-24 00:54:59.507581    s_10590    c_7954   m   \n",
       "2  0_1446   8.09      0  2021-11-26 18:04:33.019608   s_125461    c_7954   m   \n",
       "3  0_2291  12.99      0  2021-05-29 18:25:02.094891    s_41299    c_7954   m   \n",
       "4   1_385  25.99      1  2021-06-01 20:41:40.157683    s_42731    c_7954   m   \n",
       "\n",
       "   birth  year  month  day  age  \n",
       "0   1973  2021      5   12   48  \n",
       "1   1973  2021      3   24   48  \n",
       "2   1973  2021     11   26   48  \n",
       "3   1973  2021      5   29   48  \n",
       "4   1973  2021      6    1   48  "
      ]
     },
     "execution_count": 22,
     "metadata": {},
     "output_type": "execute_result"
    }
   ],
   "source": [
    "df['age'] = df.apply(lambda row:(int(row['year']) - row['birth']), axis = 1)\n",
    "df.head()"
   ]
  },
  {
   "cell_type": "code",
   "execution_count": 23,
   "id": "31606fee",
   "metadata": {},
   "outputs": [],
   "source": [
    "# Le dataset est exploitable on peut faire l'export csv\n",
    "df.to_csv(\"data/all_data.csv\", index = False )"
   ]
  },
  {
   "cell_type": "code",
   "execution_count": null,
   "id": "be23148d",
   "metadata": {},
   "outputs": [],
   "source": []
  }
 ],
 "metadata": {
  "kernelspec": {
   "display_name": "Python 3 (ipykernel)",
   "language": "python",
   "name": "python3"
  },
  "language_info": {
   "codemirror_mode": {
    "name": "ipython",
    "version": 3
   },
   "file_extension": ".py",
   "mimetype": "text/x-python",
   "name": "python",
   "nbconvert_exporter": "python",
   "pygments_lexer": "ipython3",
   "version": "3.9.12"
  }
 },
 "nbformat": 4,
 "nbformat_minor": 5
}
